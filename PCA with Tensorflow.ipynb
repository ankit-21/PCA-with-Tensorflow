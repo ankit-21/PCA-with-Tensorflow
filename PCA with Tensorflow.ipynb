{
 "cells": [
  {
   "cell_type": "code",
   "execution_count": 1,
   "metadata": {},
   "outputs": [],
   "source": [
    "import tensorflow as tf\n",
    "import pandas as pd\n",
    "import numpy as np\n",
    "from sklearn import datasets\n",
    "import matplotlib.pyplot as plt"
   ]
  },
  {
   "cell_type": "markdown",
   "metadata": {},
   "source": [
    "# Iris Dataset"
   ]
  },
  {
   "cell_type": "code",
   "execution_count": 2,
   "metadata": {},
   "outputs": [],
   "source": [
    "data = datasets.load_iris(return_X_y=False)"
   ]
  },
  {
   "cell_type": "code",
   "execution_count": 3,
   "metadata": {},
   "outputs": [],
   "source": [
    "#Defining the PCA function using SVD\n",
    "def tf_pca(x):\n",
    "    # Center (standardization)\n",
    "    x -= tf.reduce_mean(x, -2, keepdims=True)\n",
    "\n",
    "    with tf.device('/cpu:0'):\n",
    "        ss, us, vs = tf.linalg.svd(x, full_matrices=False, compute_uv=True) \n",
    "#In any singular value decomposition M = UΣV; the diagonal entries of Σ are equal to the singular values of M. The first p = min(m, n) columns of U and V are, respectively, left- and right-singular vectors for the corresponding singular values\n",
    "    \n",
    "    ss = tf.expand_dims(ss, -2)   #Returns a tensor with an additional dimension inserted at index axis \n",
    "    projected_data = us * ss\n",
    "\n",
    "    # Selection of sign of axes is arbitrary.\n",
    "    # This replicates sklearn's PCA by duplicating flip_svd\n",
    "    r = projected_data\n",
    "    abs_r = tf.abs(r) #Computes the absolute value of a tensor\n",
    "    m = tf.equal(abs_r, tf.reduce_max(abs_r, axis=-2, keepdims=True)) #equal: Returns the truth value of (x == y) element-wise; reduce_max: Computes the maximum of elements across dimensions of a tensor\n",
    "    signs = tf.sign(tf.reduce_sum(r * tf.cast(m, r.dtype), axis=-2, keepdims=True)) #sign:Returns an element-wise indication of the sign of a number; reduce_sum:Computes the sum of elements across dimensions of a tensor\n",
    "    result = r * signs\n",
    "\n",
    "    return result"
   ]
  },
  {
   "cell_type": "code",
   "execution_count": 4,
   "metadata": {},
   "outputs": [],
   "source": [
    "#defining the tensor for the data\n",
    "pca_data = tf.constant(np.reshape(data.data,(data.data.shape[0],-1)),dtype=tf.float32)"
   ]
  },
  {
   "cell_type": "code",
   "execution_count": 5,
   "metadata": {},
   "outputs": [
    {
     "data": {
      "text/plain": [
       "TensorShape([150, 4])"
      ]
     },
     "execution_count": 5,
     "metadata": {},
     "output_type": "execute_result"
    }
   ],
   "source": [
    "pca_data.shape"
   ]
  },
  {
   "cell_type": "code",
   "execution_count": 6,
   "metadata": {},
   "outputs": [],
   "source": [
    "#calling the defined function on the tensor\n",
    "pca_data=tf_pca(pca_data)"
   ]
  },
  {
   "cell_type": "code",
   "execution_count": 7,
   "metadata": {},
   "outputs": [],
   "source": [
    "#calculating mean & variance along different components \n",
    "mean, var = tf.nn.moments(pca_data, axes=[0], shift=None, keepdims=False, name=None)"
   ]
  },
  {
   "cell_type": "code",
   "execution_count": 8,
   "metadata": {},
   "outputs": [],
   "source": [
    "#ratio of explained variance for every component\n",
    "var = [i/sum(var) for i in var]"
   ]
  },
  {
   "cell_type": "code",
   "execution_count": 9,
   "metadata": {},
   "outputs": [
    {
     "data": {
      "text/plain": [
       "[<tf.Tensor: shape=(), dtype=float32, numpy=0.9246187>,\n",
       " <tf.Tensor: shape=(), dtype=float32, numpy=0.053066462>,\n",
       " <tf.Tensor: shape=(), dtype=float32, numpy=0.017102595>,\n",
       " <tf.Tensor: shape=(), dtype=float32, numpy=0.005212177>]"
      ]
     },
     "execution_count": 9,
     "metadata": {},
     "output_type": "execute_result"
    }
   ],
   "source": [
    "var"
   ]
  },
  {
   "cell_type": "markdown",
   "metadata": {},
   "source": [
    "Scree Plot"
   ]
  },
  {
   "cell_type": "code",
   "execution_count": 10,
   "metadata": {},
   "outputs": [
    {
     "data": {
      "image/png": "[encoded data removed]",
      "text/plain": [
       "<Figure size 432x288 with 1 Axes>"
      ]
     },
     "metadata": {
      "needs_background": "light"
     },
     "output_type": "display_data"
    }
   ],
   "source": [
    "labels = ['PC' + str(x) for x in range(1,len(var)+1)]\n",
    "plt.bar(x=range(1,len(var)+1), height=var, tick_label=labels)\n",
    "plt.ylabel('Percentage of Explained Variance')\n",
    "plt.xlabel('Principal Component')\n",
    "plt.title('Scree Plot')\n",
    "plt.show()"
   ]
  },
  {
   "cell_type": "markdown",
   "metadata": {},
   "source": [
    "# Wine Dataset"
   ]
  },
  {
   "cell_type": "code",
   "execution_count": 11,
   "metadata": {},
   "outputs": [],
   "source": [
    "data = datasets.load_wine(return_X_y=False)"
   ]
  },
  {
   "cell_type": "code",
   "execution_count": 18,
   "metadata": {},
   "outputs": [],
   "source": [
    "def tf_pca(x):\n",
    "    '''\n",
    "        Compute PCA on the bottom two dimensions of x,\n",
    "        eg assuming dims = [..., observations, features]\n",
    "    '''\n",
    "    # Center (standardization)\n",
    "    x -= tf.reduce_mean(x, -2, keepdims=True)\n",
    "\n",
    "    with tf.device('/cpu:0'):\n",
    "        ss, us, vs = tf.linalg.svd(x, full_matrices=False, compute_uv=True) \n",
    "#In any singular value decomposition M = UΣV; the diagonal entries of Σ are equal to the singular values of M. The first p = min(m, n) columns of U and V are, respectively, left- and right-singular vectors for the corresponding singular values\n",
    "    ss = tf.expand_dims(ss, -2)    \n",
    "    projected_data = us * ss\n",
    "\n",
    "    # Selection of sign of axes is arbitrary.\n",
    "    # This replicates sklearn's PCA by duplicating flip_svd\n",
    "    r = projected_data\n",
    "    abs_r = tf.abs(r)\n",
    "    m = tf.equal(abs_r, tf.reduce_max(abs_r, axis=-2, keepdims=True))\n",
    "    signs = tf.sign(tf.reduce_sum(r * tf.cast(m, r.dtype), axis=-2, keepdims=True))\n",
    "    result = r * signs\n",
    "\n",
    "    return result"
   ]
  },
  {
   "cell_type": "code",
   "execution_count": 19,
   "metadata": {},
   "outputs": [],
   "source": [
    "pca_data = tf.constant(np.reshape(data.data,(data.data.shape[0],-1)),dtype=tf.float32)"
   ]
  },
  {
   "cell_type": "code",
   "execution_count": 20,
   "metadata": {},
   "outputs": [
    {
     "data": {
      "text/plain": [
       "TensorShape([178, 13])"
      ]
     },
     "execution_count": 20,
     "metadata": {},
     "output_type": "execute_result"
    }
   ],
   "source": [
    "pca_data.shape"
   ]
  },
  {
   "cell_type": "code",
   "execution_count": 21,
   "metadata": {},
   "outputs": [],
   "source": [
    "pca_data=tf_pca(pca_data)"
   ]
  },
  {
   "cell_type": "code",
   "execution_count": 22,
   "metadata": {},
   "outputs": [
    {
     "data": {
      "text/plain": [
       "[<tf.Tensor: shape=(), dtype=float32, numpy=0.99809134>,\n",
       " <tf.Tensor: shape=(), dtype=float32, numpy=0.0017359122>,\n",
       " <tf.Tensor: shape=(), dtype=float32, numpy=9.4959e-05>,\n",
       " <tf.Tensor: shape=(), dtype=float32, numpy=5.021729e-05>,\n",
       " <tf.Tensor: shape=(), dtype=float32, numpy=1.2363692e-05>,\n",
       " <tf.Tensor: shape=(), dtype=float32, numpy=8.462127e-06>,\n",
       " <tf.Tensor: shape=(), dtype=float32, numpy=2.806812e-06>,\n",
       " <tf.Tensor: shape=(), dtype=float32, numpy=1.5230806e-06>,\n",
       " <tf.Tensor: shape=(), dtype=float32, numpy=1.1278271e-06>,\n",
       " <tf.Tensor: shape=(), dtype=float32, numpy=7.2141665e-07>,\n",
       " <tf.Tensor: shape=(), dtype=float32, numpy=3.7806007e-07>,\n",
       " <tf.Tensor: shape=(), dtype=float32, numpy=2.1201376e-07>,\n",
       " <tf.Tensor: shape=(), dtype=float32, numpy=8.2539124e-08>]"
      ]
     },
     "execution_count": 22,
     "metadata": {},
     "output_type": "execute_result"
    }
   ],
   "source": [
    "mean, var = tf.nn.moments(pca_data, axes=[0], shift=None, keepdims=False, name=None)\n",
    "var = [i/sum(var) for i in var]\n",
    "var"
   ]
  },
  {
   "cell_type": "code",
   "execution_count": 23,
   "metadata": {},
   "outputs": [
    {
     "data": {
      "image/png": "[encoded data removed]",
      "text/plain": [
       "<Figure size 432x288 with 1 Axes>"
      ]
     },
     "metadata": {
      "needs_background": "light"
     },
     "output_type": "display_data"
    }
   ],
   "source": [
    "labels = ['PC' + str(x) for x in range(1,len(var)+1)]\n",
    "plt.bar(x=range(1,len(var)+1), height=var, tick_label=labels)\n",
    "plt.ylabel('Percentage of Explained Variance')\n",
    "plt.xlabel('Principal Component')\n",
    "plt.title('Scree Plot')\n",
    "plt.show()"
   ]
  },
  {
   "cell_type": "code",
   "execution_count": null,
   "metadata": {},
   "outputs": [],
   "source": []
  }
 ],
 "metadata": {
  "kernelspec": {
   "display_name": "Python 3",
   "language": "python",
   "name": "python3"
  },
  "language_info": {
   "codemirror_mode": {
    "name": "ipython",
    "version": 3
   },
   "file_extension": ".py",
   "mimetype": "text/x-python",
   "name": "python",
   "nbconvert_exporter": "python",
   "pygments_lexer": "ipython3",
   "version": "3.7.3"
  }
 },
 "nbformat": 4,
 "nbformat_minor": 2
}
